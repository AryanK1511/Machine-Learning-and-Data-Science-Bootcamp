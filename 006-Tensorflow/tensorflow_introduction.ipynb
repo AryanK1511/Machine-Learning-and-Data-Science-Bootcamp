{
 "cells": [
  {
   "cell_type": "markdown",
   "id": "ccc85f5a-660e-4748-8040-ff7d9c663c7b",
   "metadata": {},
   "source": [
    "# Tensorflow Introduction\n",
    "\n",
    "Tensorflow is a deep learning numerical computing library. It is used to get insights from unstructured data.\n",
    "\n",
    "- Write fast deep learning code in Python (able to run on a GPU).\n",
    "- Able to access many pre-built deep learning models.\n",
    "- Whole stack: Preprocess, model, deploy\n",
    "- Originally designed and used in-house by Google (now open-source)\n",
    "\n",
    "\n",
    "## Workflow\n",
    "\n",
    "1. Get data ready (turn into tensors) -> This will be unstructured data\n",
    "2. Pick a model (to suit your problem)\n",
    "3. Fit the model to the data to make a prediction\n",
    "4. Evaluate the model\n",
    "5. Improve through experimentation\n",
    "6. Save and reload your trained model"
   ]
  },
  {
   "cell_type": "code",
   "execution_count": null,
   "id": "c416730a-1ef9-448c-bb3d-ffb55432a16c",
   "metadata": {},
   "outputs": [],
   "source": []
  }
 ],
 "metadata": {
  "kernelspec": {
   "display_name": "Python 3 (ipykernel)",
   "language": "python",
   "name": "python3"
  },
  "language_info": {
   "codemirror_mode": {
    "name": "ipython",
    "version": 3
   },
   "file_extension": ".py",
   "mimetype": "text/x-python",
   "name": "python",
   "nbconvert_exporter": "python",
   "pygments_lexer": "ipython3",
   "version": "3.11.8"
  }
 },
 "nbformat": 4,
 "nbformat_minor": 5
}
