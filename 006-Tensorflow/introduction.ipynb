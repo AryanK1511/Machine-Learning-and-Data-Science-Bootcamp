{
 "cells": [
  {
   "cell_type": "markdown",
   "id": "ccc85f5a-660e-4748-8040-ff7d9c663c7b",
   "metadata": {},
   "source": [
    "# Tensorflow Introduction\n",
    "\n",
    "Tensorflow is a deep learning numerical computing library. It is used to get insights from unstructured data.\n",
    "\n",
    "- Write fast deep learning code in Python (able to run on a GPU).\n",
    "- Able to access many pre-built deep learning models.\n",
    "- Whole stack: Preprocess, model, deploy\n",
    "- Originally designed and used in-house by Google (now open-source)\n",
    "\n",
    "**Note:**\n",
    "- GPUs are a lot faster than CPUs for numerical computing.\n",
    "- Transfer learning allows you to use what one model know for another model.\n",
    "\n",
    "**What are neural networks?**\n",
    "- A neural network is a series of algorithms that endeavors to recognize underlying relationships in a set of data through a process that mimics the way the human brain operates. In other words, neural networks are a subset of machine learning and are at the heart of deep learning algorithms. Their name and structure are inspired by the human brain, mimicking the way that biological neurons signal to one another.\n",
    "- Neural networks consist of input and output layers, as well as (in most cases) a hidden layer or layers that are situated between the input and output. The layers are made up of nodes, or neurons, which have weighted connections to other neurons. A node combines input from the data with a set of coefficients, or weights, that either amplify or dampen that input, thereby assigning significance to inputs for the task the algorithm is trying to learn; e.g., which inputs are most important for predicting the output. The node then applies a transformation function to the weighted input, the result of which is passed on to the next layer.\n",
    "- The network moves data through the layers to the output layer, where a prediction is made. The process of adjusting the weights of the connections in the network based on the prediction outcome is called training the neural network. This is typically done through a process known as backpropagation, where the difference between the output of the neural network and the desired output is computed and the weights are updated to minimize this difference.\n",
    "- Neural networks are particularly good at performing complex tasks such as image recognition, speech recognition, and natural language processing. They have been used in a wide range of applications, from autonomous vehicles to medical diagnosis, financial analysis, and beyond.\n",
    "\n",
    "**Use Cases:**\n",
    "1. Classification\n",
    "2. Sequence to sequence\n",
    "3. Object Detection\n",
    "\n",
    "## Workflow\n",
    "1. Get data ready (turn into tensors)\n",
    "2. Pick a model (to suit your problem)\n",
    "3. Fit the model to the data to make a prediction\n",
    "4. Evaluate the model\n",
    "5. Improve through experimentation\n",
    "6. Save and reload your trained model"
   ]
  },
  {
   "cell_type": "code",
   "execution_count": null,
   "id": "c416730a-1ef9-448c-bb3d-ffb55432a16c",
   "metadata": {},
   "outputs": [],
   "source": []
  }
 ],
 "metadata": {
  "kernelspec": {
   "display_name": "Python 3 (ipykernel)",
   "language": "python",
   "name": "python3"
  },
  "language_info": {
   "codemirror_mode": {
    "name": "ipython",
    "version": 3
   },
   "file_extension": ".py",
   "mimetype": "text/x-python",
   "name": "python",
   "nbconvert_exporter": "python",
   "pygments_lexer": "ipython3",
   "version": "3.11.8"
  }
 },
 "nbformat": 4,
 "nbformat_minor": 5
}
