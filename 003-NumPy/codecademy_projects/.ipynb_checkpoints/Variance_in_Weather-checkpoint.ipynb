{
 "cells": [
  {
   "cell_type": "markdown",
   "id": "b0caa286-fd3e-482d-866b-aee22e515f30",
   "metadata": {},
   "source": [
    "# Variance in Weather\n",
    "You’re planning a trip to London and want to get a sense of the best time of the year to visit. Luckily, you got your hands on a dataset from 2015 that contains over 39,000 data points about weather conditions in London. Surely, with this much information, you can discover something useful about when to make your trip!\n",
    "\n",
    "In this project, the data is stored in a Pandas DataFrame. If you’ve never used a DataFrame before, we’ll walk you through how to filter and manipulate this data.\n",
    "\n",
    "```python\n",
    "import pandas as pd\n",
    "import numpy as np\n",
    "from weather_data import london_data\n",
    "\n",
    "for i in range(1, 13):\n",
    "  month = london_data.loc[london_data[\"month\"] == i][\"TemperatureC\"]\n",
    "  print(\"The mean temperature in month \"+str(i) +\" is \"+ str(np.mean(month)))\n",
    "  print(\"The standard deviation of temperature in month \"+str(i) +\" is \"+ str(np.std(month)) +\"\\n\")\n",
    "```"
   ]
  },
  {
   "cell_type": "code",
   "execution_count": null,
   "id": "1259b521-9b03-49ab-ada8-eda26ac4fb25",
   "metadata": {},
   "outputs": [],
   "source": []
  }
 ],
 "metadata": {
  "kernelspec": {
   "display_name": "Python 3 (ipykernel)",
   "language": "python",
   "name": "python3"
  },
  "language_info": {
   "codemirror_mode": {
    "name": "ipython",
    "version": 3
   },
   "file_extension": ".py",
   "mimetype": "text/x-python",
   "name": "python",
   "nbconvert_exporter": "python",
   "pygments_lexer": "ipython3",
   "version": "3.12.0"
  }
 },
 "nbformat": 4,
 "nbformat_minor": 5
}
