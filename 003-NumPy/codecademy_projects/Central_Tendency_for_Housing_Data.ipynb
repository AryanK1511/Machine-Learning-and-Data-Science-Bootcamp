{
 "cells": [
  {
   "cell_type": "markdown",
   "id": "ffde4491-30df-4364-995d-898edd415ba4",
   "metadata": {},
   "source": [
    "# Central Tendency for Housing Data\n",
    "In this project, you will find the mean, median, and mode cost of one-bedroom apartments in three of the five New York City boroughs: Brooklyn, Manhattan, and Queens.\n",
    "\n",
    "Using your findings, you will make conclusions about the cost of living in each of the boroughs. We will also discuss an important assumption that we make when we point out differences between the boroughs.\n",
    "\n",
    "We worked with Streeteasy.com to collect this data. While we will only focus on the cost of one-bedroom apartments, the dataset includes a lot more information if you’re interested in asking your own questions about the Brooklyn, Manhattan, and Queens housing market."
   ]
  },
  {
   "cell_type": "code",
   "execution_count": 6,
   "id": "a3dd3af4-1310-480d-a977-68a687c89ef5",
   "metadata": {},
   "outputs": [],
   "source": [
    "# Import packages\n",
    "import numpy as np\n",
    "import pandas as pd\n",
    "from scipy import stats\n",
    "\n",
    "# Read in housing data\n",
    "brooklyn_one_bed = pd.read_csv('assets/brooklyn-one-bed.csv')\n",
    "brooklyn_price = brooklyn_one_bed['rent']\n",
    "\n",
    "manhattan_one_bed = pd.read_csv('assets/manhattan-one-bed.csv')\n",
    "manhattan_price = manhattan_one_bed['rent']\n",
    "\n",
    "queens_one_bed = pd.read_csv('assets/queens-one-bed.csv')\n",
    "queens_price = queens_one_bed['rent']"
   ]
  },
  {
   "cell_type": "markdown",
   "id": "9cc99f25-4028-4d8c-a7c4-f1d29e12b4cf",
   "metadata": {},
   "source": [
    "1. Use print statements to see them in the output terminal."
   ]
  },
  {
   "cell_type": "code",
   "execution_count": 7,
   "id": "57680e90-3d72-4959-a813-fee8359723a5",
   "metadata": {},
   "outputs": [
    {
     "data": {
      "text/plain": [
       "0    3600\n",
       "1    3900\n",
       "2    2700\n",
       "3    4900\n",
       "4    3900\n",
       "Name: rent, dtype: int64"
      ]
     },
     "execution_count": 7,
     "metadata": {},
     "output_type": "execute_result"
    }
   ],
   "source": [
    "brooklyn_price.head()"
   ]
  },
  {
   "cell_type": "code",
   "execution_count": 8,
   "id": "29293e77-b0f4-4c9b-ad5e-cacb7cbc8651",
   "metadata": {},
   "outputs": [
    {
     "data": {
      "text/plain": [
       "3     4500\n",
       "4     4795\n",
       "15    4650\n",
       "16    2950\n",
       "19    4875\n",
       "Name: rent, dtype: int64"
      ]
     },
     "execution_count": 8,
     "metadata": {},
     "output_type": "execute_result"
    }
   ],
   "source": [
    "manhattan_price.head()"
   ]
  },
  {
   "cell_type": "code",
   "execution_count": 9,
   "id": "6e0d88e8-03b8-4874-9612-225a0084672b",
   "metadata": {},
   "outputs": [
    {
     "data": {
      "text/plain": [
       "6     1950\n",
       "8     3500\n",
       "21    1725\n",
       "25    1700\n",
       "59    3100\n",
       "Name: rent, dtype: int64"
      ]
     },
     "execution_count": 9,
     "metadata": {},
     "output_type": "execute_result"
    }
   ],
   "source": [
    "queens_price.head()"
   ]
  },
  {
   "cell_type": "markdown",
   "id": "2753df64-fc12-4b86-a77b-6131cf750076",
   "metadata": {},
   "source": [
    "2. Find the average value of one-bedroom apartments in Brooklyn and save the value to brooklyn_mean. Find the average value of one-bedroom apartments in Manhattan and save the value to manhattan_mean. Find the average value of one-bedroom apartments in Queens and save the value to queens_mean."
   ]
  },
  {
   "cell_type": "code",
   "execution_count": 10,
   "id": "aa091348-a375-4c94-b2cb-26154b495c80",
   "metadata": {},
   "outputs": [
    {
     "data": {
      "text/plain": [
       "(3327.4037512339587, 2346.2543103448274, 3993.4769647696476)"
      ]
     },
     "execution_count": 10,
     "metadata": {},
     "output_type": "execute_result"
    }
   ],
   "source": [
    "brooklyn_mean = np.mean(brooklyn_price)\n",
    "queens_mean = np.mean(queens_price)\n",
    "manhattan_mean = np.mean(manhattan_price)\n",
    "brooklyn_mean, queens_mean, manhattan_mean"
   ]
  },
  {
   "cell_type": "markdown",
   "id": "5e0147cc-d375-41ef-940d-f5fb3e16707a",
   "metadata": {},
   "source": [
    "3. Find the median value of one-bedroom apartments in Brooklyn and save the value to brooklyn_median. Find the median value of one-bedroom apartments in Manhattan and save the value to manhattan_median. Find the median value of one-bedroom apartments in Queens and save the value to queens_median."
   ]
  },
  {
   "cell_type": "code",
   "execution_count": 11,
   "id": "47f61600-4235-45aa-bb2f-d88badc11aec",
   "metadata": {},
   "outputs": [
    {
     "data": {
      "text/plain": [
       "(3000.0, 2200.0, 3800.0)"
      ]
     },
     "execution_count": 11,
     "metadata": {},
     "output_type": "execute_result"
    }
   ],
   "source": [
    "brooklyn_median = np.median(brooklyn_price)\n",
    "queens_median = np.median(queens_price)\n",
    "manhattan_median = np.median(manhattan_price)\n",
    "brooklyn_median, queens_median, manhattan_median"
   ]
  },
  {
   "cell_type": "markdown",
   "id": "4a57fb5e-fbc6-49e7-a0eb-bc87c091e671",
   "metadata": {},
   "source": [
    "4. Find the mode value of one-bedroom apartments in Brooklyn and save the value to brooklyn_mode. Find the mode value of one-bedroom apartments in Manhattan and save the value to manhattan_mode. Find the mode value of one-bedroom apartments in Queens and save the value to queens_mode."
   ]
  },
  {
   "cell_type": "code",
   "execution_count": 12,
   "id": "deb11a98-7588-4169-9f34-e64a4e2c3ade",
   "metadata": {},
   "outputs": [],
   "source": [
    "from scipy import stats"
   ]
  },
  {
   "cell_type": "code",
   "execution_count": 13,
   "id": "8ebb30bf-a4b1-4878-94c9-5354648d5d99",
   "metadata": {},
   "outputs": [
    {
     "data": {
      "text/plain": [
       "(ModeResult(mode=2500, count=26),\n",
       " ModeResult(mode=1750, count=11),\n",
       " ModeResult(mode=3500, count=56))"
      ]
     },
     "execution_count": 13,
     "metadata": {},
     "output_type": "execute_result"
    }
   ],
   "source": [
    "brooklyn_mode = stats.mode(brooklyn_price)\n",
    "queens_mode = stats.mode(queens_price)\n",
    "manhattan_mode = stats.mode(manhattan_price)\n",
    "brooklyn_mode, queens_mode, manhattan_mode"
   ]
  }
 ],
 "metadata": {
  "kernelspec": {
   "display_name": "Python 3 (ipykernel)",
   "language": "python",
   "name": "python3"
  },
  "language_info": {
   "codemirror_mode": {
    "name": "ipython",
    "version": 3
   },
   "file_extension": ".py",
   "mimetype": "text/x-python",
   "name": "python",
   "nbconvert_exporter": "python",
   "pygments_lexer": "ipython3",
   "version": "3.12.0"
  }
 },
 "nbformat": 4,
 "nbformat_minor": 5
}
