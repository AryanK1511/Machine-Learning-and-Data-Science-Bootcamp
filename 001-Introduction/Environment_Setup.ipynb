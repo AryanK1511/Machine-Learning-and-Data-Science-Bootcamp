{
 "cells": [
  {
   "cell_type": "markdown",
   "id": "d1d53650-45a3-497e-b0c6-16d077eba706",
   "metadata": {},
   "source": [
    "# Environment Setup on your computer\n",
    "\n",
    "1. Install miniconda using the website.\n",
    "2. Create a folder for your project. Which was `/Users/aryan-khurana/Desktop/sample-project` in my case.\n",
    "3. Enter the folder using the terminal and use the following commands:\n",
    "   - `conda create --prefix ./env pandas numpy matplotlib scikit-learn` -> To create an environment with the required dependencies\n",
    "   - `conda activate /Users/aryan-khurana/Desktop/sample-project/env` -> To activate the environment\n",
    "   - `conda deactivate` -> To deactivate the environment once you are done with your work\n",
    "   - `conda env list` -> To output a list of all environments in your folder\n",
    "   - `conda install <package_name>` -> To install a package in your env that you didn't specify in the initial create command\n",
    "   - `jupyter notebook` => To run a jupyter notebook\n",
    "  \n",
    "### Sharing your environment using YAML files\n",
    "\n",
    "1. Use this command on the computer you want to share the env from: `conda env export --prefix /Users/daniel/Desktop/project_1/env > environment.yml`\n",
    "2. Use the environment.yml file on the computer that you want to run your shared environment on and run the following command: `conda env create --file environment.yml --name env_from_file`"
   ]
  },
  {
   "cell_type": "markdown",
   "id": "0c393b2e-58e2-4b12-befb-7ad0428b42b7",
   "metadata": {},
   "source": [
    "#### Basic python imports used in almost all projects"
   ]
  },
  {
   "cell_type": "code",
   "execution_count": 2,
   "id": "1985b7a7-f001-487a-95a4-8fd0d329f01c",
   "metadata": {},
   "outputs": [],
   "source": [
    "import pandas as pd\n",
    "import numpy as np\n",
    "import matplotlib.pyplot as plt\n",
    "import sklearn"
   ]
  },
  {
   "cell_type": "markdown",
   "id": "1a5ddc97-43d6-43aa-aa42-c1138f85e732",
   "metadata": {},
   "source": [
    "# Jupyter Notebook Tutorial and Basics\n",
    "\n",
    "Jupyter Notebook is an open-source web-based interactive computing environment that allows users to create and share documents that contain live code, equations, visualizations, and explanatory text. It's a versatile tool commonly used for tasks like data cleaning and transformation, numerical simulation, statistical modeling, data visualization, machine learning, and more.\n",
    "\n",
    "### Handy Keyboard Shortcuts\n",
    "\n",
    "- __Shift + Enter__ -> Run the Code\n",
    "- __esc + m__ -> Turn cell into markdown\n",
    "- __esc + y__ -> Turn cell into code\n",
    "- __a__ -> Insert a cell above the selected cell\n",
    "- __b__ -> Insert a cell below the selected cell\n",
    "- __dd__ -> Delete the selected cell"
   ]
  },
  {
   "cell_type": "markdown",
   "id": "6a8c9794-59a9-45d1-8d3c-bc141d3c77b9",
   "metadata": {},
   "source": [
    "Below is some basic code that I tried to get a feel for the features of Jupyter notebook:"
   ]
  },
  {
   "cell_type": "code",
   "execution_count": 12,
   "id": "f3194895-7389-4ed8-85f8-148c6a478f44",
   "metadata": {},
   "outputs": [],
   "source": [
    "import pandas as pd\n",
    "import matplotlib.pyplot as plt"
   ]
  },
  {
   "cell_type": "code",
   "execution_count": 9,
   "id": "1cbe4934-d917-4153-ad2b-dbd871881005",
   "metadata": {},
   "outputs": [],
   "source": [
    "df = pd.read_csv(\"heart-disease.csv\")"
   ]
  },
  {
   "cell_type": "markdown",
   "id": "0a1666e0-39eb-49dd-b3b6-ecf9b986e8e1",
   "metadata": {},
   "source": [
    "The following table shows heart disease information for patients."
   ]
  },
  {
   "cell_type": "code",
   "execution_count": 10,
   "id": "64a7f0ca-272b-4102-bc55-a305d55f9f40",
   "metadata": {},
   "outputs": [
    {
     "data": {
      "text/html": [
       "<div>\n",
       "<style scoped>\n",
       "    .dataframe tbody tr th:only-of-type {\n",
       "        vertical-align: middle;\n",
       "    }\n",
       "\n",
       "    .dataframe tbody tr th {\n",
       "        vertical-align: top;\n",
       "    }\n",
       "\n",
       "    .dataframe thead th {\n",
       "        text-align: right;\n",
       "    }\n",
       "</style>\n",
       "<table border=\"1\" class=\"dataframe\">\n",
       "  <thead>\n",
       "    <tr style=\"text-align: right;\">\n",
       "      <th></th>\n",
       "      <th>age</th>\n",
       "      <th>sex</th>\n",
       "      <th>cp</th>\n",
       "      <th>trestbps</th>\n",
       "      <th>chol</th>\n",
       "      <th>fbs</th>\n",
       "      <th>restecg</th>\n",
       "      <th>thalach</th>\n",
       "      <th>exang</th>\n",
       "      <th>oldpeak</th>\n",
       "      <th>slope</th>\n",
       "      <th>ca</th>\n",
       "      <th>thal</th>\n",
       "      <th>target</th>\n",
       "    </tr>\n",
       "  </thead>\n",
       "  <tbody>\n",
       "    <tr>\n",
       "      <th>0</th>\n",
       "      <td>63</td>\n",
       "      <td>1</td>\n",
       "      <td>3</td>\n",
       "      <td>145</td>\n",
       "      <td>233</td>\n",
       "      <td>1</td>\n",
       "      <td>0</td>\n",
       "      <td>150</td>\n",
       "      <td>0</td>\n",
       "      <td>2.3</td>\n",
       "      <td>0</td>\n",
       "      <td>0</td>\n",
       "      <td>1</td>\n",
       "      <td>1</td>\n",
       "    </tr>\n",
       "    <tr>\n",
       "      <th>1</th>\n",
       "      <td>37</td>\n",
       "      <td>1</td>\n",
       "      <td>2</td>\n",
       "      <td>130</td>\n",
       "      <td>250</td>\n",
       "      <td>0</td>\n",
       "      <td>1</td>\n",
       "      <td>187</td>\n",
       "      <td>0</td>\n",
       "      <td>3.5</td>\n",
       "      <td>0</td>\n",
       "      <td>0</td>\n",
       "      <td>2</td>\n",
       "      <td>1</td>\n",
       "    </tr>\n",
       "    <tr>\n",
       "      <th>2</th>\n",
       "      <td>41</td>\n",
       "      <td>0</td>\n",
       "      <td>1</td>\n",
       "      <td>130</td>\n",
       "      <td>204</td>\n",
       "      <td>0</td>\n",
       "      <td>0</td>\n",
       "      <td>172</td>\n",
       "      <td>0</td>\n",
       "      <td>1.4</td>\n",
       "      <td>2</td>\n",
       "      <td>0</td>\n",
       "      <td>2</td>\n",
       "      <td>1</td>\n",
       "    </tr>\n",
       "    <tr>\n",
       "      <th>3</th>\n",
       "      <td>56</td>\n",
       "      <td>1</td>\n",
       "      <td>1</td>\n",
       "      <td>120</td>\n",
       "      <td>236</td>\n",
       "      <td>0</td>\n",
       "      <td>1</td>\n",
       "      <td>178</td>\n",
       "      <td>0</td>\n",
       "      <td>0.8</td>\n",
       "      <td>2</td>\n",
       "      <td>0</td>\n",
       "      <td>2</td>\n",
       "      <td>1</td>\n",
       "    </tr>\n",
       "    <tr>\n",
       "      <th>4</th>\n",
       "      <td>57</td>\n",
       "      <td>0</td>\n",
       "      <td>0</td>\n",
       "      <td>120</td>\n",
       "      <td>354</td>\n",
       "      <td>0</td>\n",
       "      <td>1</td>\n",
       "      <td>163</td>\n",
       "      <td>1</td>\n",
       "      <td>0.6</td>\n",
       "      <td>2</td>\n",
       "      <td>0</td>\n",
       "      <td>2</td>\n",
       "      <td>1</td>\n",
       "    </tr>\n",
       "  </tbody>\n",
       "</table>\n",
       "</div>"
      ],
      "text/plain": [
       "   age  sex  cp  trestbps  chol  fbs  restecg  thalach  exang  oldpeak  slope  \\\n",
       "0   63    1   3       145   233    1        0      150      0      2.3      0   \n",
       "1   37    1   2       130   250    0        1      187      0      3.5      0   \n",
       "2   41    0   1       130   204    0        0      172      0      1.4      2   \n",
       "3   56    1   1       120   236    0        1      178      0      0.8      2   \n",
       "4   57    0   0       120   354    0        1      163      1      0.6      2   \n",
       "\n",
       "   ca  thal  target  \n",
       "0   0     1       1  \n",
       "1   0     2       1  \n",
       "2   0     2       1  \n",
       "3   0     2       1  \n",
       "4   0     2       1  "
      ]
     },
     "execution_count": 10,
     "metadata": {},
     "output_type": "execute_result"
    }
   ],
   "source": [
    "df.head()"
   ]
  },
  {
   "cell_type": "code",
   "execution_count": 13,
   "id": "6871ee17-1269-4673-9090-f252f2c28212",
   "metadata": {},
   "outputs": [
    {
     "data": {
      "text/plain": [
       "<Axes: xlabel='target'>"
      ]
     },
     "execution_count": 13,
     "metadata": {},
     "output_type": "execute_result"
    },
    {
     "data": {
      "image/png": "[encoded data removed]",
      "text/plain": [
       "<Figure size 640x480 with 1 Axes>"
      ]
     },
     "metadata": {},
     "output_type": "display_data"
    }
   ],
   "source": [
    "df.target.value_counts().plot(kind=\"bar\")"
   ]
  },
  {
   "cell_type": "markdown",
   "id": "8bd86eed-23ab-45ea-ab0b-f9b2b9b2f52d",
   "metadata": {},
   "source": [
    "![](6-step-ml-framework.png)"
   ]
  },
  {
   "cell_type": "markdown",
   "id": "66fa5dda-9418-4de4-b65e-43c9b6e121b1",
   "metadata": {},
   "source": [
    "#### Run Terminal commands"
   ]
  },
  {
   "cell_type": "code",
   "execution_count": 15,
   "id": "4f8d4e3e-4b46-487d-919c-43f9cff635fe",
   "metadata": {},
   "outputs": [
    {
     "name": "stdout",
     "output_type": "stream",
     "text": [
      "6-step-ml-framework.png example-notebook.ipynb\n",
      "\u001b[1m\u001b[36menv\u001b[m\u001b[m                     heart-disease.csv\n"
     ]
    }
   ],
   "source": [
    "!ls"
   ]
  }
 ],
 "metadata": {
  "kernelspec": {
   "display_name": "Python 3 (ipykernel)",
   "language": "python",
   "name": "python3"
  },
  "language_info": {
   "codemirror_mode": {
    "name": "ipython",
    "version": 3
   },
   "file_extension": ".py",
   "mimetype": "text/x-python",
   "name": "python",
   "nbconvert_exporter": "python",
   "pygments_lexer": "ipython3",
   "version": "3.12.0"
  }
 },
 "nbformat": 4,
 "nbformat_minor": 5
}
